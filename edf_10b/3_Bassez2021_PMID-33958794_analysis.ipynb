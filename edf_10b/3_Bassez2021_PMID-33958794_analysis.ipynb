{
 "cells": [
  {
   "cell_type": "markdown",
   "metadata": {},
   "source": [
    "### Analysis for Bassez et al., 2021 (PMID: 33958794)"
   ]
  },
  {
   "cell_type": "markdown",
   "metadata": {},
   "source": [
    "### Prerequisites"
   ]
  },
  {
   "cell_type": "code",
   "execution_count": null,
   "metadata": {},
   "outputs": [],
   "source": [
    "#Load python\n",
    "import anndata\n",
    "import numpy as np\n",
    "import pandas as pd\n",
    "import scanpy as sc\n",
    "import seaborn as sns\n",
    "from scipy.stats import median_abs_deviation\n",
    "import matplotlib.pyplot as plt\n",
    "import os\n",
    "import scvi\n",
    "scvi.settings.seed = 0\n",
    "print(\"Last run with scvi-tools version:\", scvi.__version__)\n",
    "sc.settings.verbosity = 3\n",
    "sc.logging.print_header()\n",
    "sc.settings.set_figure_params(dpi=80, facecolor='white', frameon=False)"
   ]
  },
  {
   "cell_type": "markdown",
   "metadata": {},
   "source": [
    "### Load data"
   ]
  },
  {
   "cell_type": "code",
   "execution_count": null,
   "metadata": {},
   "outputs": [],
   "source": [
    "Bassez2021 = sc.read_h5ad('../yourpath')\n",
    "Bassez2021 = Bassez2021[Bassez2021.obs['anno'].isin(['Myeloid cells'])]\n",
    "Bassez2021 = Bassez2021[Bassez2021.obs['expansion'].isin(['E', 'NE'])]\n",
    "Bassez2021.obs['sample'] = Bassez2021.obs['patient_id']\n",
    "Bassez2021.obs['response'] = Bassez2021.obs['expansion']\n",
    "Bassez2021.layers[\"counts\"] = Bassez2021.X.copy()\n",
    "sc.pp.normalize_total(Bassez2021, target_sum=1e4)\n",
    "sc.pp.log1p(Bassez2021)\n",
    "Bassez2021.raw = Bassez2021\n",
    "sc.pp.neighbors(Bassez2021, use_rep='X_scVI')\n",
    "sc.tl.umap(Bassez2021)\n",
    "sc.tl.leiden(Bassez2021, resolution=1)"
   ]
  },
  {
   "cell_type": "markdown",
   "metadata": {},
   "source": [
    "### Annotate myeloid cells"
   ]
  },
  {
   "cell_type": "code",
   "execution_count": null,
   "metadata": {},
   "outputs": [],
   "source": [
    "cell_type = {\n",
    "    '0': 'mo-mac',\n",
    "    '1': 'mo-mac',\n",
    "    '2': 'mo-mac',\n",
    "    '3': 'mo-mac',\n",
    "    '4': 'mo-mac',\n",
    "    '5': 'mo-mac', \n",
    "    '6': 'mo-mac',\n",
    "    '7': 'mo-mac',\n",
    "    '8': 'doublets_cancer_myeloid', \n",
    "    '9': 'mo-mac',\n",
    "    '10': 'Monocytes',\n",
    "    '11': 'DC2',\n",
    "    '12': 'mo-mac_cycling',\n",
    "    '13': 'DC2',\n",
    "    '14': 'doublets_cancer_myeloid',\n",
    "    '15': 'mo-mac',\n",
    "    '16': 'mo-mac',\n",
    "    '17': 'DC1',\n",
    "    '18': 'mregDC',\n",
    "}\n",
    "\n",
    "Bassez2021.obs['anno_myeloid'] = Bassez2021.obs.leiden.map(cell_type)\n",
    "Bassez2021 = Bassez2021[Bassez2021.obs['anno_myeloid'] != \"doublets_cancer_myeloid\"]"
   ]
  },
  {
   "cell_type": "markdown",
   "metadata": {},
   "source": [
    "### ChEA-X analysis"
   ]
  },
  {
   "cell_type": "code",
   "execution_count": null,
   "metadata": {},
   "outputs": [],
   "source": [
    "Bassez2021_sub = Bassez2021[Bassez2021.obs['timepoint'] == \"On\"]\n",
    "Bassez2021v2_cluster_sub = Bassez2021_sub[Bassez2021_sub.obs['anno_myeloid'].isin(['mo-mac'])]\n",
    "sc.tl.rank_genes_groups(Bassez2021v2_cluster_sub, 'response', method='wilcoxon')\n",
    "results = Bassez2021v2_cluster_sub.uns['rank_genes_groups']\n",
    "out = np.array([[0,0,0,0,0]])\n",
    "for group in results['names'].dtype.names:\n",
    "    out = np.vstack((out, np.vstack((results['names'][group],\n",
    "                                     results['scores'][group],\n",
    "                                     results['pvals_adj'][group],\n",
    "                                     results['logfoldchanges'][group],\n",
    "                                     np.array([group]*len(results['names'][group])).astype('object'))).T))\n",
    "    \n",
    "markers = pd.DataFrame(out[1:], columns = ['Gene', 'scores', 'pval_adj', 'lfc', 'cluster'])\n",
    "markers = markers[(markers.pval_adj < 0.05) & (abs(markers.lfc) > 1)]\n",
    "markers_up_NR = markers[markers['pval_adj'] <= 0.05]\n",
    "markers_up_NR = markers_up_NR[markers_up_NR['lfc'] >= 0.5]\n",
    "markers_up_NR = markers_up_NR[markers_up_NR['cluster'] == \"NE\"]\n",
    "markers_up_NR = list(markers_up_NR['Gene'])"
   ]
  },
  {
   "cell_type": "code",
   "execution_count": null,
   "metadata": {},
   "outputs": [],
   "source": [
    "import gseapy\n",
    "names = gseapy.get_library_name()\n",
    "print(names)"
   ]
  },
  {
   "cell_type": "code",
   "execution_count": null,
   "metadata": {},
   "outputs": [],
   "source": [
    "enr_ChIPX_up = gseapy.enrichr(gene_list=markers_up_NR ,gene_sets=['ENCODE_and_ChEA_Consensus_TFs_from_ChIP-X'],organism='Human', outdir='../yourpath/',cutoff=0.5)"
   ]
  }
 ],
 "metadata": {
  "kernelspec": {
   "display_name": "240206_sca_py3.9",
   "language": "python",
   "name": "python3"
  },
  "language_info": {
   "codemirror_mode": {
    "name": "ipython",
    "version": 3
   },
   "file_extension": ".py",
   "mimetype": "text/x-python",
   "name": "python",
   "nbconvert_exporter": "python",
   "pygments_lexer": "ipython3",
   "version": "3.9.18"
  }
 },
 "nbformat": 4,
 "nbformat_minor": 2
}

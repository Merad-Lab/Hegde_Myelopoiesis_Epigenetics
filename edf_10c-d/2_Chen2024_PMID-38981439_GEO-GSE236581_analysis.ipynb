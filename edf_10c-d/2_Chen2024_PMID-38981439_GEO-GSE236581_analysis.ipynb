{
 "cells": [
  {
   "cell_type": "markdown",
   "metadata": {},
   "source": [
    "### Analysis for Chen et al., 2024 (PMID: 38981439, GEO: GSE236581)"
   ]
  },
  {
   "cell_type": "markdown",
   "metadata": {},
   "source": [
    "### Prerequisites"
   ]
  },
  {
   "cell_type": "code",
   "execution_count": null,
   "metadata": {},
   "outputs": [],
   "source": [
    "#Load python\n",
    "import anndata\n",
    "import numpy as np\n",
    "import pandas as pd\n",
    "import scanpy as sc\n",
    "import seaborn as sns\n",
    "from scipy.stats import median_abs_deviation\n",
    "import matplotlib.pyplot as plt\n",
    "import os\n",
    "import scvi\n",
    "scvi.settings.seed = 0\n",
    "print(\"Last run with scvi-tools version:\", scvi.__version__)\n",
    "sc.settings.verbosity = 3\n",
    "sc.logging.print_header()\n",
    "sc.settings.set_figure_params(dpi=80, facecolor='white', frameon=False)"
   ]
  },
  {
   "cell_type": "markdown",
   "metadata": {},
   "source": [
    "### Load data"
   ]
  },
  {
   "cell_type": "code",
   "execution_count": null,
   "metadata": {},
   "outputs": [],
   "source": [
    "Chen2024 = sc.read_h5ad('../yourpath')\n",
    "Chen2024 = Chen2024[Chen2024.obs['anno'].isin(['Myeloid cells'])]\n",
    "Chen2024 = Chen2024[Chen2024.obs['Response'].isin(['CR', 'PR', 'SD'])]\n",
    "Chen2024.obs['response'] = Chen2024.obs['Response']\n",
    "Chen2024.layers[\"counts\"] = Chen2024.X.copy()\n",
    "sc.pp.normalize_total(Chen2024, target_sum=1e4)\n",
    "sc.pp.log1p(Chen2024)\n",
    "Chen2024.raw = Chen2024\n",
    "sc.pp.neighbors(Chen2024, use_rep='X_scVI')\n",
    "sc.tl.umap(Chen2024)\n",
    "sc.tl.leiden(Chen2024, resolution=1.5)"
   ]
  },
  {
   "cell_type": "markdown",
   "metadata": {},
   "source": [
    "### Annotate myeloid cells"
   ]
  },
  {
   "cell_type": "code",
   "execution_count": null,
   "metadata": {},
   "outputs": [],
   "source": [
    "cell_type = {\n",
    "    '0': 'Monocytes',\n",
    "    '1': 'Monocytes',\n",
    "    '2': 'Monocytes',\n",
    "    '3': 'Monocytes',\n",
    "    '4': 'Mast cells',\n",
    "    '5': 'Monocytes',\n",
    "    '6': 'Monocytes',\n",
    "    '7': 'Monocytes',\n",
    "    '8': 'Macrophages_DC2',\n",
    "    '9': 'Monocytes',\n",
    "    '10': 'Monocytes',\n",
    "    '11': 'Monocytes',\n",
    "    '12': 'DC2',\n",
    "    '13': 'Monocytes',\n",
    "    '14': 'Macrophages_DC2',\n",
    "    '15': 'Macrophages_DC2',\n",
    "    '16': 'Monocytes',\n",
    "    '17': 'pDC',\n",
    "    '18': 'mregDC',\n",
    "    '19': 'pDC',\n",
    "    '20': 'Macrophages_DC2',\n",
    "    '21': 'DC1',\n",
    "    '22': 'Neutrophils',\n",
    "    '23': 'Mast cells',\n",
    "}\n",
    "\n",
    "Chen2024.obs['anno_myeloid'] = Chen2024.obs.leiden.map(cell_type)"
   ]
  },
  {
   "cell_type": "code",
   "execution_count": null,
   "metadata": {},
   "outputs": [],
   "source": [
    "Chen2024 = Chen2024[Chen2024.obs['anno_myeloid'].isin(['DC1', 'DC2', 'mregDC', 'Macrophages_DC2','Monocytes'])]\n",
    "Chen2024_Macrophages_DC2 = Chen2024[Chen2024.obs['anno_myeloid'].isin(['Macrophages_DC2'])]\n",
    "sc.pp.neighbors(Chen2024_Macrophages_DC2, use_rep='X_scVI')\n",
    "sc.tl.umap(Chen2024_Macrophages_DC2)\n",
    "sc.tl.leiden(Chen2024_Macrophages_DC2, resolution=1)"
   ]
  },
  {
   "cell_type": "code",
   "execution_count": null,
   "metadata": {},
   "outputs": [],
   "source": [
    "cell_type = {\n",
    "    '0': 'DC2',\n",
    "    '1': 'mo-mac',\n",
    "    '2': 'mo-mac',\n",
    "    '3': 'DC2',\n",
    "    '4': 'mo-mac',\n",
    "    '5': 'mo-mac',\n",
    "    '6': 'mo-mac',\n",
    "    '7': 'mo-mac',\n",
    "    '8': 'mo-mac',\n",
    "    '9': 'mo-mac',\n",
    "    '10': 'mo-mac',\n",
    "    '11': 'mo-mac',\n",
    "    '12': 'mo-mac',\n",
    "    '13': 'mo-mac',\n",
    "    '14': 'mo-mac',\n",
    "    '15': 'DC2',\n",
    "}\n",
    "\n",
    "Chen2024_Macrophages_DC2.obs['anno_Macrophages_DC2'] = Chen2024_Macrophages_DC2.obs.leiden.map(cell_type)\n",
    "Chen2024.obs['anno_myeloid'] = Chen2024.obs['anno_myeloid'].astype('object')\n",
    "Chen2024.obs.loc[Chen2024_Macrophages_DC2.obs.index, 'anno_myeloid'] = Chen2024_Macrophages_DC2.obs['anno_Macrophages_DC2']\n",
    "Chen2024.obs['anno_myeloid'] = pd.Categorical(Chen2024.obs['anno_myeloid'])"
   ]
  },
  {
   "cell_type": "markdown",
   "metadata": {},
   "source": [
    "### ChEA-X analysis"
   ]
  },
  {
   "cell_type": "code",
   "execution_count": null,
   "metadata": {},
   "outputs": [],
   "source": [
    "#Tumor\n",
    "Chen2024_sub = Chen2024[Chen2024.obs['Treatment'] == \"II\"]\n",
    "Chen2024_sub = Chen2024_sub[Chen2024_sub.obs['response'].isin(['CR','SD'])]\n",
    "Chen2024_sub = Chen2024_sub[Chen2024_sub.obs['Tissue'].isin(['Tumor'])]\n",
    "Chen2024v2_cluster_sub = Chen2024_sub[Chen2024_sub.obs['anno_myeloid'].isin(['mo-mac'])]\n",
    "sc.tl.rank_genes_groups(Chen2024v2_cluster_sub, 'response', method='wilcoxon')\n",
    "results = Chen2024v2_cluster_sub.uns['rank_genes_groups']\n",
    "out = np.array([[0,0,0,0,0]])\n",
    "for group in results['names'].dtype.names:\n",
    "    out = np.vstack((out, np.vstack((results['names'][group],\n",
    "                                     results['scores'][group],\n",
    "                                     results['pvals_adj'][group],\n",
    "                                     results['logfoldchanges'][group],\n",
    "                                     np.array([group]*len(results['names'][group])).astype('object'))).T))\n",
    "    \n",
    "markers = pd.DataFrame(out[1:], columns = ['Gene', 'scores', 'pval_adj', 'lfc', 'cluster'])\n",
    "markers = markers[(markers.pval_adj < 0.05) & (abs(markers.lfc) > 1)]\n",
    "markers_up_NR = markers[markers['pval_adj'] <= 0.05]\n",
    "markers_up_NR = markers_up_NR[markers_up_NR['lfc'] >= 0.5]\n",
    "markers_up_NR = markers_up_NR[markers_up_NR['cluster'] == \"SD\"]\n",
    "markers_up_NR = list(markers_up_NR['Gene'])"
   ]
  },
  {
   "cell_type": "code",
   "execution_count": null,
   "metadata": {},
   "outputs": [],
   "source": [
    "import gseapy\n",
    "names = gseapy.get_library_name()\n",
    "print(names)"
   ]
  },
  {
   "cell_type": "code",
   "execution_count": null,
   "metadata": {},
   "outputs": [],
   "source": [
    "enr_ChIPX_up = gseapy.enrichr(gene_list=markers_up_NR ,gene_sets=['ENCODE_and_ChEA_Consensus_TFs_from_ChIP-X'],organism='Human', outdir='../yourpath/tumor/',cutoff=0.5)"
   ]
  },
  {
   "cell_type": "code",
   "execution_count": null,
   "metadata": {},
   "outputs": [],
   "source": [
    "#Blood\n",
    "Chen2024_sub = Chen2024[Chen2024.obs['Treatment'] == \"II\"]\n",
    "Chen2024_sub = Chen2024_sub[Chen2024_sub.obs['response'].isin(['CR','SD'])]\n",
    "Chen2024_sub = Chen2024_sub[Chen2024_sub.obs['Tissue'].isin(['Blood'])]\n",
    "Chen2024v2_cluster_sub = Chen2024_sub[Chen2024_sub.obs['anno_myeloid'].isin(['Monocytes'])]\n",
    "sc.tl.rank_genes_groups(Chen2024v2_cluster_sub, 'response', method='wilcoxon')\n",
    "results = Chen2024v2_cluster_sub.uns['rank_genes_groups']\n",
    "out = np.array([[0,0,0,0,0]])\n",
    "for group in results['names'].dtype.names:\n",
    "    out = np.vstack((out, np.vstack((results['names'][group],\n",
    "                                     results['scores'][group],\n",
    "                                     results['pvals_adj'][group],\n",
    "                                     results['logfoldchanges'][group],\n",
    "                                     np.array([group]*len(results['names'][group])).astype('object'))).T))\n",
    "    \n",
    "markers = pd.DataFrame(out[1:], columns = ['Gene', 'scores', 'pval_adj', 'lfc', 'cluster'])\n",
    "markers = markers[(markers.pval_adj < 0.05) & (abs(markers.lfc) > 1)]\n",
    "markers_up_NR = markers[markers['pval_adj'] <= 0.05]\n",
    "markers_up_NR = markers_up_NR[markers_up_NR['lfc'] >= 0.5]\n",
    "markers_up_NR = markers_up_NR[markers_up_NR['cluster'] == \"SD\"]\n",
    "markers_up_NR = list(markers_up_NR['Gene'])\n",
    "enr_ChIPX_up = gseapy.enrichr(gene_list=markers_up_NR ,gene_sets=['ENCODE_and_ChEA_Consensus_TFs_from_ChIP-X'],organism='Human', outdir='../yourpath/blood/',cutoff=0.5 )"
   ]
  }
 ],
 "metadata": {
  "kernelspec": {
   "display_name": "240206_sca_py3.9",
   "language": "python",
   "name": "python3"
  },
  "language_info": {
   "codemirror_mode": {
    "name": "ipython",
    "version": 3
   },
   "file_extension": ".py",
   "mimetype": "text/x-python",
   "name": "python",
   "nbconvert_exporter": "python",
   "pygments_lexer": "ipython3",
   "version": "3.9.18"
  }
 },
 "nbformat": 4,
 "nbformat_minor": 2
}
